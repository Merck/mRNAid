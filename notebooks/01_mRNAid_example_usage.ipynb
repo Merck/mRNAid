{
 "cells": [
  {
   "cell_type": "code",
   "execution_count": 1,
   "id": "63cc3efa-1c9e-43af-8c42-439b2536e669",
   "metadata": {},
   "outputs": [],
   "source": [
    "from mrnaid import optimize"
   ]
  },
  {
   "cell_type": "code",
   "execution_count": 2,
   "id": "ff474e40-7f59-4aad-8c5e-e2b3e601aac8",
   "metadata": {},
   "outputs": [
    {
     "name": "stderr",
     "output_type": "stream",
     "text": [
      "/Users/prihodad/miniforge3/envs/mrnaid/lib/python3.9/site-packages/Bio/SeqUtils/CodonUsageIndices.py:16: BiopythonDeprecationWarning: This module has been DEPRECATED. Please use the CodonAdaptationIndex class in Bio.SeqUtils instead. Note that this class has been updated to use modern Python, and may give slightly different results from the CodonAdaptationIndex class in Bio.SeqUtils.CodonUsage, as the code was changed to be consistent with the published paper by Sharp and Li. The code in the old CodonAdaptationIndex class in Bio.SeqUtils.CodonUsage was not changed.\n",
      "  warnings.warn(\n",
      "/Users/prihodad/miniforge3/envs/mrnaid/lib/python3.9/site-packages/Bio/SeqUtils/CodonUsage.py:15: BiopythonDeprecationWarning: This module has been DEPRECATED. Please use the CodonAdaptationIndex class in Bio.SeqUtils instead. Note that this class has been updated to use modern Python, and may give slightly different results from the CodonAdaptationIndex class in Bio.SeqUtils.CodonUsage, as the code was changed to be consistent with the published paper by Sharp and Li. The code in the old CodonAdaptationIndex class in Bio.SeqUtils.CodonUsage was not changed.\n",
      "  warnings.warn(\n",
      "objective:   0%|                                                                                                                           | 0/3 [00:00<?, ?it/s, now=MinimizeMFE]\n",
      "\n",
      "\n",
      "location:   0%|                                                                                                                                   | 0/1 [00:00<?, ?it/s, now=None]\u001b[A\u001b[A\u001b[A\n",
      "\n",
      "\n",
      "location:   0%|                                                                                                                                   | 0/1 [00:00<?, ?it/s, now=0-30]\u001b[A\u001b[A\u001b[A\n",
      "                                                                                                                                                                                  \u001b[A\n",
      "location:   0%|                                                                                                                                   | 0/1 [00:00<?, ?it/s, now=0-30]\n",
      "                                                                                                                                                                                  \n",
      "location:   0%|                                                                                                                                 | 0/1 [00:00<?, ?it/s, now=94-218]\n",
      "location:   0%|                                                                                                                                   | 0/1 [00:00<?, ?it/s, now=0-30]\n",
      "                                                                                                                                                                                  \u001b[A\n",
      "\u001b[A\n",
      "location:   0%|                                                                                                                                 | 0/1 [00:00<?, ?it/s, now=94-218]\u001b[A\n",
      "                                                                                                                                                                                  \u001b[A\n",
      "location:   0%|                                                                                                                                 | 0/1 [00:00<?, ?it/s, now=93-218]\u001b[A\n",
      "                                                                                                                                                                                  \u001b[A\n",
      "location:   0%|                                                                                                                                 | 0/265 [00:00<?, ?it/s, now=0-30]\u001b[A\n",
      "location:   0%|                                                                                                                            | 0/265 [00:00<?, ?it/s, now=1218-1221]\u001b[A\n",
      "                                                                                                                                                                                  \u001b[A\n",
      "location:   0%|                                                                                                                            | 0/265 [00:00<?, ?it/s, now=1218-1221]\u001b[A\n",
      "objective:  33%|████████████████████████████████▋                                                                 | 1/3 [00:00<00:00,  3.52it/s, now=MatchTargetCodonUsage[0-1...]\u001b[A\n",
      "location:   0%|                                                                                                                               | 0/262 [00:00<?, ?it/s, now=93-218]\u001b[A\n",
      "location:   0%|                                                                                                                              | 0/262 [00:00<?, ?it/s, now=507-510]\u001b[A\n",
      "                                                                                                                                                                                  \u001b[A\n",
      "location:   0%|                                                                                                                              | 0/262 [00:00<?, ?it/s, now=507-510]\u001b[A\n",
      "location:   0%|▍                                                                                                                     | 1/265 [00:00<00:49,  5.32it/s, now=543-546]\u001b[A\n",
      "location:   0%|▍                                                                                                                     | 1/265 [00:00<00:50,  5.25it/s, now=543-546]\u001b[A\n",
      "objective:  33%|████████████████████████████████▋                                                                 | 1/3 [00:00<00:00,  2.86it/s, now=MatchTargetCodonUsage[0-1...]\u001b[A\n",
      "location:   0%|                                                                                                                               | 0/232 [00:00<?, ?it/s, now=94-218]\u001b[A\n",
      "location:   0%|                                                                                                                            | 0/232 [00:00<?, ?it/s, now=1200-1203]\u001b[A\n",
      "                                                                                                                                                                                  \u001b[A\n",
      "location:   0%|                                                                                                                            | 0/232 [00:00<?, ?it/s, now=1200-1203]\u001b[A\n",
      "location:   0%|▍                                                                                                                     | 1/262 [00:00<00:51,  5.02it/s, now=207-210]\u001b[A\n",
      "location:   0%|▍                                                                                                                     | 1/262 [00:00<00:56,  4.63it/s, now=207-210]\u001b[A\n",
      "location:  34%|███████████████████████████████████████                                                                            | 90/265 [00:00<00:33,  5.25it/s, now=1284-1287]\n",
      "location:   0%|▌                                                                                                                   | 1/232 [00:00<00:49,  4.65it/s, now=1017-1020]\n",
      "location:  34%|██████████████████████████████████████▋                                                                           | 90/265 [00:00<00:00, 239.73it/s, now=1284-1287]\u001b[A\n",
      "location:   0%|▌                                                                                                                   | 1/232 [00:00<00:56,  4.06it/s, now=1017-1020]\u001b[A\n",
      "location:  29%|█████████████████████████████████▍                                                                                   | 75/262 [00:00<00:40,  4.63it/s, now=876-879]\u001b[A\n",
      "location:  29%|█████████████████████████████████▏                                                                                  | 75/262 [00:00<00:00, 230.36it/s, now=876-879]\u001b[A\n",
      "location:  67%|█████████████████████████████████████████████████████████████████████████████▏                                     | 178/265 [00:00<00:00, 239.73it/s, now=675-678]\u001b[A\n",
      "location:  67%|█████████████████████████████████████████████████████████████████████████████▏                                     | 178/265 [00:00<00:00, 355.16it/s, now=675-678]\u001b[A\n",
      "location:  33%|██████████████████████████████████████▊                                                                              | 77/232 [00:00<00:38,  4.06it/s, now=483-486]\u001b[A\n",
      "location:  33%|██████████████████████████████████████▌                                                                             | 77/232 [00:00<00:00, 236.99it/s, now=483-486]\u001b[A\n",
      "                                                                                                                                                                                  \u001b[A\r"
     ]
    },
    {
     "name": "stdout",
     "output_type": "stream",
     "text": [
      "===> SUCCESS - all constraints evaluations pass\n",
      "✔PASS ┍ EnforceGCContent[0-1329](mini:0.30, maxi:0.70)\n",
      "      │ Passed !\n",
      "✔PASS ┍ EnforceTranslation[0-1329(+)]\n",
      "      │ Enforced by nucleotides restrictions\n",
      "✔PASS ┍ AvoidRareCodons[0-1329]\n",
      "      │ Enforced by nucleotides restrictions\n",
      "\n",
      "\n",
      "===> TOTAL OBJECTIVES SCORE:  -2178.81\n",
      "   -214.67 ┍ MinimizeMFE \n",
      "           │ MFE score: -214.66666666666669\n",
      "     -0.35 ┍ EnforceGCContent[0-1329](mini:0.30, maxi:0.70, window:100) \n",
      "           │ Out of bound on segments 1-142, 94-194\n",
      "    -31.79 ┍ MatchTargetCodonUsage[0-1329](h_sapiens) \n",
      "           │ Codon opt. on window 0-1329 scored -3.18E+01\n",
      "\n",
      "\n",
      "Optimized mRNA sequence:AGUAGGGAGGGGGGGAGCAGUGGGGUAAGAAGCUGGGGCUUGGCCUGCGGGCGGCCCGCCAAGGUGGCGAAGGCUCCCACUGGAUCCCGAGUUUGCCGGCCCAGCAGCCUCGUCUCAGCCCGCAGUGUGUGUGUGCGACCUCUUCCAGCGCCUUGGCUGAGCGGAGUCGUGCGGUUGGUGGGGGAGCCCUGCCCUCCUGGUUCUGCCUCCCCGCGCACUAGAACGAUCAUGAACUUCUGAAGGGACCCUGCCUUCUUUGUGUGCUCCAAGUGAUUUGCACAAAUAAUAAUCUAUAUAUUCAUCGAAGGAGAGAACCAGAGCAAGUGAUAAUCUAGUUACUAUGAGUCUGCUAAACUGUAGAAACAGCUGUGGAUCCAGCCUGUCUAGAAGUGACUGCUGUGUGGCCAUGGCCAGCUCCUGUAGCGCUGUAACAAACGAUGAUAGUGUGGGUGGAACUGCCAGCACGGGGAACCUCUCCAGCUCAUUUAUGGAGGAGACCCCGGGAUCUAAUGUCGGGUGUGACCCACCCCUGGAAAGCAAGUGUAGAUGCCCCACCUGCUUGAUGGCAUUACCAGAAGCAGUGCAAACGCCAUGCGGCCAUAGGUCCUGCAGAGCCUGCACCAUAAAAUCAAUAAGGGAUGCAGGAGCCAGAUGUCUAGUUGACAGUAAAAUACUGCUGGUAAAAGUACCAUUUCCAGACAAUUUUGCAAAACCUGAGACUCUUUCUCUGAUGGUGAAAUGUCCAAGUGAAGGUUGUUUGCACAGGAUGGCACUGAGACAUCUUGAGGAUCAUCAAGCACCCUCUGAGUGUGCUCUUACGGCUUGUCCCCGAUGCCCGCCUCCCUUCCAAAAAUUCCAUAUUAAUACUCACACUCUGAAGGAUUGUCCAAGGAGACAGGUUUCUUGUGACAACUGUGCUGCAUCAAUGGCAUUUGACGCUAAAGAGAUCCUUGACCAGAACUGUCCUUCGGCAAAUGUCAUCUGUAAAUCCUGCAAUACUACACUCAUCAGAGGACAGAUGCCUAAAGUCUUUGAUCUAGACUGCCCUACAGCCCCAAUUCCAUGCACAUUCAGUACUUUUGGUUGCCAUAAAAAGACGCAGAGGAAAGCCUUGGCACGCCCCCUACACGGGAACACCCCGUCACACAUGAGAAUGUUGGCCCAGGCUGUUCAUAGUUUGAGAGGUAUACCCGACUCUGGGUAUAUCUCCGCGGUCCGGAAUUCCCAGGCAACUAUUCACCAGUUAGAGGGUCCCCUUGUAAGACCCGCCCAUCAAAUCCGGGCGCUGACUGCUAAAAUGGUAACUCAGAGUACGUUUGUAAGUAGGCU\n"
     ]
    },
    {
     "name": "stderr",
     "output_type": "stream",
     "text": [
      "\n",
      "location:  45%|███████████████████████████████████████████████████▊                                                               | 118/262 [00:00<00:00, 230.36it/s, now=552-555]\u001b[A\n",
      "location:  45%|███████████████████████████████████████████████████▊                                                               | 118/262 [00:00<00:00, 220.67it/s, now=552-555]\u001b[A\n",
      "location:  56%|███████████████████████████████████████████████████████████████▉                                                   | 129/232 [00:00<00:00, 236.99it/s, now=705-708]\u001b[A\n",
      "location:  56%|███████████████████████████████████████████████████████████████▉                                                   | 129/232 [00:00<00:00, 248.23it/s, now=705-708]\u001b[A\n",
      "                                                                                                                                                                                  \u001b[A\r"
     ]
    },
    {
     "name": "stdout",
     "output_type": "stream",
     "text": [
      "===> SUCCESS - all constraints evaluations pass\n",
      "✔PASS ┍ EnforceGCContent[0-1329](mini:0.30, maxi:0.70)\n",
      "      │ Passed !\n",
      "✔PASS ┍ EnforceTranslation[0-1329(+)]\n",
      "      │ Enforced by nucleotides restrictions\n",
      "✔PASS ┍ AvoidRareCodons[0-1329]\n",
      "      │ Enforced by nucleotides restrictions\n",
      "\n",
      "\n",
      "===> TOTAL OBJECTIVES SCORE:  -1911.39\n",
      "   -187.88 ┍ MinimizeMFE \n",
      "           │ MFE score: -187.87878787878788\n",
      "     -0.81 ┍ EnforceGCContent[0-1329](mini:0.30, maxi:0.70, window:100) \n",
      "           │ Out of bound on segments 0-146, 75-216\n",
      "    -31.79 ┍ MatchTargetCodonUsage[0-1329](h_sapiens) \n",
      "           │ Codon opt. on window 0-1329 scored -3.18E+01\n",
      "\n",
      "\n",
      "Optimized mRNA sequence:AGUAGGGAGGGGGGGAGUAGUGGAGUGAGGAGCUGGGGCUUGGCCUGCGGGCGGCCAGCGAAGGUGGCGAAGGCUCCCACUGGAUCCCGGGUGUGCCGGCCGUCUAGCCUCGUGAGCGCCCGGAGUGUGUGUGUGAGGCCUCUUCCUGCCCCCUGGCUCAGCGGUGUCGUGCGGCUUGUGGGUGAGCCUUGCCCUCCUGGGUCUGCCAGCCCGCGCACUCGCACCAUCAUGAACUUCUAAAGGGACCCAGCUUUCUUUGUGUGCUCCAAGUGAUUCGCACAAAUAAUCAUAUAUAUAUUUAUCGAAGGGGAGAAUCAGAGCAAGUGAUAAUCUAGUUACUAUGAGUCUGCUAAACUGUGAAAACAGCUGUGGAUCCAGCCUGUCUGAAAGUAGCUGCUGUGUGGCCACGGCCAGCUCCUGUAGCGCUGUAACAAAAGAUGAUAGUGUGGGUGGAACUGCCAGCACGGGGAACCUCUCCAGCUCAUUUACGGAGGCGAUCCCGGGAUCUGAUGUAGAGUUUGACCCACCCCUGGCAAGCAAGUAUAAAUGCCCCACCUGCUUGAUGGCAUUACGAGAAGCAGUGCAAACGCCAUGCGGCCAUAGGUUCUGCAAAGCCUGCAUCACAAAAUCAAUAAGGGAUGCAGGUCACAGAUGUCCAGUUAACAGUAGAAUACUGCUGGAAAAUCAACCAUUUCCCGACAGUUUUGCAAAACCUAGGAUUCUUUCUCUGAUGGUGAAAUGUCCAAAUGAAGGUUGUUCGCACAAGACGGAACUGAGACAUCUUGAGGUUCAUCAAGCACACUGUAAGUCUGCUCUUAUGGCUUGUCCCCAAUGCCAGCCUCCCUUCCAAAAAUUCCCUAUUAAUACAGUCAUUCUGAAGGAUUGUCCAAGGAGACCGGUUUCUUGUGACAACUGUGCUGCAUCAAUGGCAUUUGAAGAUAAAGAGACCCAUGACCAGAACUGUCCUUUGGCAAGUGUCAUCUGUGAAUCCUGCAGUACUACACUCAUCAGAGAACAGACGCCUAAUCCUUGUGAUCUCGCCUGCCCUACAGCCCCAAUUCCAUGCACAUUCAGUACUUUUGGUUGCCCUAGAAAGAUGCAGAGGAAUCACUUGGCACGCCACCUACCCGAGAACACCCCGUCACACAUGAGAAUGUUGGCCCAGGCUGUUCAUAGUUUGAGCGCUAUACCCGACUCUGGGUCUACCUCCGAGGUCCGGAAUUCCCCGGAAACUAUUCACCUGUUAGAGGGAGCCCUUGUAAGACACGCCCCUCAAACCCGGGAGCCGACUGCUAAAAUGGCAACAGCGAGUAUGUAUGUAAGUGAGCU\n"
     ]
    },
    {
     "name": "stderr",
     "output_type": "stream",
     "text": [
      "\n",
      "location: 100%|███████████████████████████████████████████████████████████████████████████████████████████████████████████████████| 262/262 [00:00<00:00, 514.56it/s, now=552-555]\u001b[A\n",
      "                                                                                                                                                                                  \u001b[A\r"
     ]
    },
    {
     "name": "stdout",
     "output_type": "stream",
     "text": [
      "===> SUCCESS - all constraints evaluations pass\n",
      "✔PASS ┍ EnforceGCContent[0-1329](mini:0.30, maxi:0.70)\n",
      "      │ Passed !\n",
      "✔PASS ┍ EnforceTranslation[0-1329(+)]\n",
      "      │ Enforced by nucleotides restrictions\n",
      "✔PASS ┍ AvoidRareCodons[0-1329]\n",
      "      │ Enforced by nucleotides restrictions\n",
      "\n",
      "\n",
      "===> TOTAL OBJECTIVES SCORE:  -1911.06\n",
      "   -187.88 ┍ MinimizeMFE \n",
      "           │ MFE score: -187.87878787878788\n",
      "     -0.48 ┍ EnforceGCContent[0-1329](mini:0.30, maxi:0.70, window:100) \n",
      "           │ Out of bound on segments 0-146, 115-216\n",
      "    -31.79 ┍ MatchTargetCodonUsage[0-1329](h_sapiens) \n",
      "           │ Codon opt. on window 0-1329 scored -3.18E+01\n",
      "\n",
      "\n",
      "Optimized mRNA sequence:AGUAGGGAGGGGGGGAGUAGUGGGGUGAGGAGCUGGGGCUUGGCCUGCGGGCGGCCCGCGAAGGUGGCGAAGGCUCCCACUGGAUCCCGGGUUUGCAGGCCUAGCAGCCUCGUGAGCGCCAGGAGUGUCUGCGUGCGACCUCUCCCUGCCCCUUGGCUUAGCGGCGUCGUGCGGCUUGUGGGUGAGCCUUGUCCCCCGGGUUCUGCCUCCCCGCGCACCAGAACGAUCAUGAACUUCUGAAGGGACCCAGCUUUCUUUGUGUGCUCCAAGUAGUUCGCACAGAUAAUCAUCUAUAUAUUCAUUGAAGGAGAGAAUCAGAGCAAGUGAUAAUCUAGUUACUACGAGUCUGCUAAACUGUGAAAACAGCUGUGGAUCCAGCCAGUCUGAAAGUAACUGCUGUGUGGCCAUGGCCAGCUCCUGUAGCGCUGUAACAAACGAUGAUAGUGUGGGUGGAACUGCCAGCACGGGGAACCUCUCCAGCUCAUUUAUGGAGGCGAUCCAGGGAUCUAGUGUCGCGUUUGACCCACCCCUGGAAAGCAAGUAUAGAUGCCCCAUCUGCUUGAUGGCAUUACCCGGAGCAGUGCAAACGCCAUGCGGCCAUAGGUCCUGCAGAGCCUGCAUCAUAAAAUCAAUAAGGGAUGCAGGAGUCAAAUGUCCAGUUGACAAUGAAACACCGCUGGAAAAUCAACUAUUUCCCGCCAGUUUUGCAAAACGUAGGACUCUUUCUCUGACGGUGAAAUGUCCAAGUGAAGGUUGUUUGCACAAGAUGGCACUGAGACAUCUUGAGGAUCAUCAAGCACAUUGUAAGUUUGCUCUUAUGGGUUGUCCCCAAUGCCUGCCUCCCUUCCAAAAAUCCCCUACUAAUAUUCACACUCUGAAGGAUUGUCCAAGGAGACAGGUUUCUUGUGACAACUGUGCUGCAUCAAUGGCAUUUAACGGUAAAGAGAUCCCUGACCUGAACUGUCCUUCGGCAAAUGUCACCUGUGAAUACUGCAGUACUAUACUCAUCAGAGAACCGACGCCUAAUCACUGUAAUCUAGACUGCCCUACAGCCCCAAUUCCAUGCACAUUCAGUACUUUUGGUUGCCCUGAAAAGAUGCAGAGGAAUCACUUGGCACUCCCCCUACCCGCGAACACCCAGUCACACACGAGAAUGUGGGCCCAGGCUGUUCAUAGUUUGAGCGAUACACCCGACUCUGGGUAUACCUCAGAGGUCCGGAAUUUCCCGGCAACUAUUCUCCAGUGCGCGGGAGCCCUUGUAAGACAAGACCAUCAAAUCCGGGAGCCGACUGCUAAAAUGGUAACAGCGAGUAUGUUUGUAAGUGAGCU\n"
     ]
    }
   ],
   "source": [
    "from mrnaid import optimize\n",
    "\n",
    "results = optimize(\n",
    "    input_mrna='AGCAGAGAAGGCGGAAGCAGTGGCGTCCGCAGCTGGGGCTTGGCCTGCGGGCGGCCAGCGAAGGTGGCGAAGGCTCCCACTGGATCCAGAGTTTGCCGTCCAAGCAGCCTCGTCTCGGCGCGCAGTGTCTGTGTCCGTCCTCTACCAGCGCCTTGGCTGAGCGGAGTCGTGCGGTTGGTGGGGGAGCCCTGCCCTCCTGGTTCGGCCTCCCCGCGCACTAGAACGATCATGAACTTCTGAAGGGACCCAGCTTTCTTTGTGTGCTCCAAGTGATTTGCACAAATAATAATATATATATTTATTGAAGGAGAGAATCAGAGCAAGTGATAATCAAGTTACTATGAGTCTGCTAAACTGTGAAAACAGCTGTGGATCCAGCCAGTCTGAAAGTGACTGCTGTGTGGCCATGGCCAGCTCCTGTAGCGCTGTAACAAAAGATGATAGTGTGGGTGGAACTGCCAGCACGGGGAACCTCTCCAGCTCATTTATGGAGGAGATCCAGGGATATGATGTAGAGTTTGACCCACCCCTGGAAAGCAAGTATGAATGCCCCATCTGCTTGATGGCATTACGAGAAGCAGTGCAAACGCCATGCGGCCATAGGTTCTGCAAAGCCTGCATCATAAAATCAATAAGGGATGCAGGTCACAAATGTCCAGTTGACAATGAAATACTGCTGGAAAATCAACTATTTCCAGACAATTTTGCAAAACGTGAGATTCTTTCTCTGATGGTGAAATGTCCAAATGAAGGTTGTTTGCACAAGATGGAACTGAGACATCTTGAGGATCATCAAGCACATTGTGAGTTTGCTCTTATGGATTGTCCCCAATGCCAGCGTCCCTTCCAAAAATTCCATATTAATATTCACATTCTGAAGGATTGTCCAAGGAGACAGGTTTCTTGTGACAACTGTGCTGCATCAATGGCATTTGAAGATAAAGAGATCCATGACCAGAACTGTCCTTTGGCAAATGTCATCTGTGAATACTGCAATACTATACTCATCAGAGAACAGATGCCTAATCATTATGATCTAGACTGCCCTACAGCCCCAATTCCATGCACATTCAGTACTTTTGGTTGCCATGAAAAGATGCAGAGGAATCACTTGGCACGCCACCTACAAGAGAACACCCAGTCACACATGAGAATGTTGGCCCAGGCTGTTCATAGTTTGAGCGTTATACCCGACTCTGGGTATATCTCAGAGGTCCGGAATTTCCAGGAAACTATTCACCAGTTAGAGGGTCGCCTTGTAAGACAAGACCATCAAATCCGGGAGCTGACTGCTAAAATGGAAACTCAGAGTATGTATGTAAGTGAGCT',\n",
    "    five_end='ATG',\n",
    "    three_end='CGG',\n",
    "    optimization_criterion='codon_usage',\n",
    ")"
   ]
  },
  {
   "cell_type": "code",
   "execution_count": 5,
   "id": "abb3dd5e-b21c-41dc-8e6f-04b1eb4d132d",
   "metadata": {},
   "outputs": [
    {
     "data": {
      "text/plain": [
       "{'seqID': 'input',\n",
       " 'RNASeq': 'AUGAGCAGAGAAGGCGGAAGCAGUGGCGUCCGCAGCUGGGGCUUGGCCUGCGGGCGGCCAGCGAAGGUGGCGAAGGCUCCCACUGGAUCCAGAGUUUGCCGUCCAAGCAGCCUCGUCUCGGCGCGCAGUGUCUGUGUCCGUCCUCUACCAGCGCCUUGGCUGAGCGGAGUCGUGCGGUUGGUGGGGGAGCCCUGCCCUCCUGGUUCGGCCUCCCCGCGCACUAGAACGAUCAUGAACUUCUGAAGGGACCCAGCUUUCUUUGUGUGCUCCAAGUGAUUUGCACAAAUAAUAAUAUAUAUAUUUAUUGAAGGAGAGAAUCAGAGCAAGUGAUAAUCAAGUUACUAUGAGUCUGCUAAACUGUGAAAACAGCUGUGGAUCCAGCCAGUCUGAAAGUGACUGCUGUGUGGCCAUGGCCAGCUCCUGUAGCGCUGUAACAAAAGAUGAUAGUGUGGGUGGAACUGCCAGCACGGGGAACCUCUCCAGCUCAUUUAUGGAGGAGAUCCAGGGAUAUGAUGUAGAGUUUGACCCACCCCUGGAAAGCAAGUAUGAAUGCCCCAUCUGCUUGAUGGCAUUACGAGAAGCAGUGCAAACGCCAUGCGGCCAUAGGUUCUGCAAAGCCUGCAUCAUAAAAUCAAUAAGGGAUGCAGGUCACAAAUGUCCAGUUGACAAUGAAAUACUGCUGGAAAAUCAACUAUUUCCAGACAAUUUUGCAAAACGUGAGAUUCUUUCUCUGAUGGUGAAAUGUCCAAAUGAAGGUUGUUUGCACAAGAUGGAACUGAGACAUCUUGAGGAUCAUCAAGCACAUUGUGAGUUUGCUCUUAUGGAUUGUCCCCAAUGCCAGCGUCCCUUCCAAAAAUUCCAUAUUAAUAUUCACAUUCUGAAGGAUUGUCCAAGGAGACAGGUUUCUUGUGACAACUGUGCUGCAUCAAUGGCAUUUGAAGAUAAAGAGAUCCAUGACCAGAACUGUCCUUUGGCAAAUGUCAUCUGUGAAUACUGCAAUACUAUACUCAUCAGAGAACAGAUGCCUAAUCAUUAUGAUCUAGACUGCCCUACAGCCCCAAUUCCAUGCACAUUCAGUACUUUUGGUUGCCAUGAAAAGAUGCAGAGGAAUCACUUGGCACGCCACCUACAAGAGAACACCCAGUCACACAUGAGAAUGUUGGCCCAGGCUGUUCAUAGUUUGAGCGUUAUACCCGACUCUGGGUAUAUCUCAGAGGUCCGGAAUUUCCAGGAAACUAUUCACCAGUUAGAGGGUCGCCUUGUAAGACAAGACCAUCAAAUCCGGGAGCUGACUGCUAAAAUGGAAACUCAGAGUAUGUAUGUAAGUGAGCUCGG',\n",
       " 'DNASeq': 'ATGAGCAGAGAAGGCGGAAGCAGTGGCGTCCGCAGCTGGGGCTTGGCCTGCGGGCGGCCAGCGAAGGTGGCGAAGGCTCCCACTGGATCCAGAGTTTGCCGTCCAAGCAGCCTCGTCTCGGCGCGCAGTGTCTGTGTCCGTCCTCTACCAGCGCCTTGGCTGAGCGGAGTCGTGCGGTTGGTGGGGGAGCCCTGCCCTCCTGGTTCGGCCTCCCCGCGCACTAGAACGATCATGAACTTCTGAAGGGACCCAGCTTTCTTTGTGTGCTCCAAGTGATTTGCACAAATAATAATATATATATTTATTGAAGGAGAGAATCAGAGCAAGTGATAATCAAGTTACTATGAGTCTGCTAAACTGTGAAAACAGCTGTGGATCCAGCCAGTCTGAAAGTGACTGCTGTGTGGCCATGGCCAGCTCCTGTAGCGCTGTAACAAAAGATGATAGTGTGGGTGGAACTGCCAGCACGGGGAACCTCTCCAGCTCATTTATGGAGGAGATCCAGGGATATGATGTAGAGTTTGACCCACCCCTGGAAAGCAAGTATGAATGCCCCATCTGCTTGATGGCATTACGAGAAGCAGTGCAAACGCCATGCGGCCATAGGTTCTGCAAAGCCTGCATCATAAAATCAATAAGGGATGCAGGTCACAAATGTCCAGTTGACAATGAAATACTGCTGGAAAATCAACTATTTCCAGACAATTTTGCAAAACGTGAGATTCTTTCTCTGATGGTGAAATGTCCAAATGAAGGTTGTTTGCACAAGATGGAACTGAGACATCTTGAGGATCATCAAGCACATTGTGAGTTTGCTCTTATGGATTGTCCCCAATGCCAGCGTCCCTTCCAAAAATTCCATATTAATATTCACATTCTGAAGGATTGTCCAAGGAGACAGGTTTCTTGTGACAACTGTGCTGCATCAATGGCATTTGAAGATAAAGAGATCCATGACCAGAACTGTCCTTTGGCAAATGTCATCTGTGAATACTGCAATACTATACTCATCAGAGAACAGATGCCTAATCATTATGATCTAGACTGCCCTACAGCCCCAATTCCATGCACATTCAGTACTTTTGGTTGCCATGAAAAGATGCAGAGGAATCACTTGGCACGCCACCTACAAGAGAACACCCAGTCACACATGAGAATGTTGGCCCAGGCTGTTCATAGTTTGAGCGTTATACCCGACTCTGGGTATATCTCAGAGGTCCGGAATTTCCAGGAAACTATTCACCAGTTAGAGGGTCGCCTTGTAAGACAAGACCATCAAATCCGGGAGCTGACTGCTAAAATGGAAACTCAGAGTATGTATGTAAGTGAGCTCGG',\n",
       " 'RNA_structure': '..((((((((..((((((.((((..((...(((.((((((((..(((.((((((((((.(((...(((((.((....))))))).........))).)))))))..))))))..)))))))))))..))..)))).))))))))))(((.(((((((.((...)).)))..)))))))..(((((((.(((..(((.....)))..))).))))))).((((...(((..((((...((((((.(.(((((..((((((((.(((((............))))).....(((((........)))))))))))))...((((.((((((((......)))))).))..))))...((((((((..((((((.(((..(((((...(((.(..(((((((.((((((((((((((((((.(.....).))))...((((((((...((((((.((((((.((...((..((((....(((((..(........)..)))))(((((((.......................)))))))..(((........))).(((((.....)))))...........((((.((....(((....))).....)).))))...(((((((((...............)))))))))......((((.....)))).........(((((((((........))))))).))(((((((.....)))))))((((((((((((((((...(((((((..((((.((((((.(.(((((((.........))))))).((((.(((...((...(((((((.......((((((................................)))))).....)))))))...))...))).))))..).)))))).))))))).))))...(((.(((((((((((((((((..((...(.((.((........)).)).)...))..))))))))))...)))....)))).)))..))).)))))))))).)))...(((((((...)))).)))....))))...))..)).)))))).))))))..)).))))))...))))))......(((.(((......))).))).)))))..........)))..)))))))...).)))..))))).)))))))))))))))))((((...((((((((....)))))))).))))....((((((...))).)))((((.......))))...))))).)(((((...))))).........((((..(((.....)))....))))...))))))))))..))).)))).))))..',\n",
       " 'A_ratio': 0.27565543071161047,\n",
       " 'TU_ratio': 0.2449438202247191,\n",
       " 'G_ratio': 0.250936329588015,\n",
       " 'C_ratio': 0.22846441947565543,\n",
       " 'AT_ratio': 0.5205992509363295,\n",
       " 'GC_ratio': 0.4794007490636704,\n",
       " 'MFE': -407.44000244140625,\n",
       " 'MFE_5': -9.5,\n",
       " 'score': 0.6168657825568783,\n",
       " 'CAI': 0.7424059070198179}"
      ]
     },
     "execution_count": 5,
     "metadata": {},
     "output_type": "execute_result"
    }
   ],
   "source": [
    "results['input']"
   ]
  },
  {
   "cell_type": "code",
   "execution_count": 8,
   "id": "0eb05c75-b7a1-45bb-aa07-eadd8c4ff4b0",
   "metadata": {},
   "outputs": [
    {
     "data": {
      "text/plain": [
       "{'input_mRNA': 'AGCAGAGAAGGCGGAAGCAGTGGCGTCCGCAGCTGGGGCTTGGCCTGCGGGCGGCCAGCGAAGGTGGCGAAGGCTCCCACTGGATCCAGAGTTTGCCGTCCAAGCAGCCTCGTCTCGGCGCGCAGTGTCTGTGTCCGTCCTCTACCAGCGCCTTGGCTGAGCGGAGTCGTGCGGTTGGTGGGGGAGCCCTGCCCTCCTGGTTCGGCCTCCCCGCGCACTAGAACGATCATGAACTTCTGAAGGGACCCAGCTTTCTTTGTGTGCTCCAAGTGATTTGCACAAATAATAATATATATATTTATTGAAGGAGAGAATCAGAGCAAGTGATAATCAAGTTACTATGAGTCTGCTAAACTGTGAAAACAGCTGTGGATCCAGCCAGTCTGAAAGTGACTGCTGTGTGGCCATGGCCAGCTCCTGTAGCGCTGTAACAAAAGATGATAGTGTGGGTGGAACTGCCAGCACGGGGAACCTCTCCAGCTCATTTATGGAGGAGATCCAGGGATATGATGTAGAGTTTGACCCACCCCTGGAAAGCAAGTATGAATGCCCCATCTGCTTGATGGCATTACGAGAAGCAGTGCAAACGCCATGCGGCCATAGGTTCTGCAAAGCCTGCATCATAAAATCAATAAGGGATGCAGGTCACAAATGTCCAGTTGACAATGAAATACTGCTGGAAAATCAACTATTTCCAGACAATTTTGCAAAACGTGAGATTCTTTCTCTGATGGTGAAATGTCCAAATGAAGGTTGTTTGCACAAGATGGAACTGAGACATCTTGAGGATCATCAAGCACATTGTGAGTTTGCTCTTATGGATTGTCCCCAATGCCAGCGTCCCTTCCAAAAATTCCATATTAATATTCACATTCTGAAGGATTGTCCAAGGAGACAGGTTTCTTGTGACAACTGTGCTGCATCAATGGCATTTGAAGATAAAGAGATCCATGACCAGAACTGTCCTTTGGCAAATGTCATCTGTGAATACTGCAATACTATACTCATCAGAGAACAGATGCCTAATCATTATGATCTAGACTGCCCTACAGCCCCAATTCCATGCACATTCAGTACTTTTGGTTGCCATGAAAAGATGCAGAGGAATCACTTGGCACGCCACCTACAAGAGAACACCCAGTCACACATGAGAATGTTGGCCCAGGCTGTTCATAGTTTGAGCGTTATACCCGACTCTGGGTATATCTCAGAGGTCCGGAATTTCCAGGAAACTATTCACCAGTTAGAGGGTCGCCTTGTAAGACAAGACCATCAAATCCGGGAGCTGACTGCTAAAATGGAAACTCAGAGTATGTATGTAAGTGAGCT',\n",
       " 'input_DNA': 'AGCAGAGAAGGCGGAAGCAGTGGCGTCCGCAGCTGGGGCTTGGCCTGCGGGCGGCCAGCGAAGGTGGCGAAGGCTCCCACTGGATCCAGAGTTTGCCGTCCAAGCAGCCTCGTCTCGGCGCGCAGTGTCTGTGTCCGTCCTCTACCAGCGCCTTGGCTGAGCGGAGTCGTGCGGTTGGTGGGGGAGCCCTGCCCTCCTGGTTCGGCCTCCCCGCGCACTAGAACGATCATGAACTTCTGAAGGGACCCAGCTTTCTTTGTGTGCTCCAAGTGATTTGCACAAATAATAATATATATATTTATTGAAGGAGAGAATCAGAGCAAGTGATAATCAAGTTACTATGAGTCTGCTAAACTGTGAAAACAGCTGTGGATCCAGCCAGTCTGAAAGTGACTGCTGTGTGGCCATGGCCAGCTCCTGTAGCGCTGTAACAAAAGATGATAGTGTGGGTGGAACTGCCAGCACGGGGAACCTCTCCAGCTCATTTATGGAGGAGATCCAGGGATATGATGTAGAGTTTGACCCACCCCTGGAAAGCAAGTATGAATGCCCCATCTGCTTGATGGCATTACGAGAAGCAGTGCAAACGCCATGCGGCCATAGGTTCTGCAAAGCCTGCATCATAAAATCAATAAGGGATGCAGGTCACAAATGTCCAGTTGACAATGAAATACTGCTGGAAAATCAACTATTTCCAGACAATTTTGCAAAACGTGAGATTCTTTCTCTGATGGTGAAATGTCCAAATGAAGGTTGTTTGCACAAGATGGAACTGAGACATCTTGAGGATCATCAAGCACATTGTGAGTTTGCTCTTATGGATTGTCCCCAATGCCAGCGTCCCTTCCAAAAATTCCATATTAATATTCACATTCTGAAGGATTGTCCAAGGAGACAGGTTTCTTGTGACAACTGTGCTGCATCAATGGCATTTGAAGATAAAGAGATCCATGACCAGAACTGTCCTTTGGCAAATGTCATCTGTGAATACTGCAATACTATACTCATCAGAGAACAGATGCCTAATCATTATGATCTAGACTGCCCTACAGCCCCAATTCCATGCACATTCAGTACTTTTGGTTGCCATGAAAAGATGCAGAGGAATCACTTGGCACGCCACCTACAAGAGAACACCCAGTCACACATGAGAATGTTGGCCCAGGCTGTTCATAGTTTGAGCGTTATACCCGACTCTGGGTATATCTCAGAGGTCCGGAATTTCCAGGAAACTATTCACCAGTTAGAGGGTCGCCTTGTAAGACAAGACCATCAAATCCGGGAGCTGACTGCTAAAATGGAAACTCAGAGTATGTATGTAAGTGAGCT',\n",
       " 'five_end': 'ATG',\n",
       " 'three_end': 'CGG',\n",
       " 'avoid_motifs': [],\n",
       " 'max_GC_content': 0.7,\n",
       " 'min_GC_content': 0.3,\n",
       " 'GC_window_size': 100,\n",
       " 'usage_threshold': 0.1,\n",
       " 'uridine_depletion': False,\n",
       " 'organism': 'h_sapiens',\n",
       " 'entropy_window': 30,\n",
       " 'number_of_sequences': 3,\n",
       " 'filename': 'unused',\n",
       " 'mfe_method': 'stem-loop',\n",
       " 'optimization_criterion': 'codon_usage',\n",
       " 'location': [0, 1329, 1]}"
      ]
     },
     "execution_count": 8,
     "metadata": {},
     "output_type": "execute_result"
    }
   ],
   "source": [
    "results['input_parameters']"
   ]
  },
  {
   "cell_type": "code",
   "execution_count": 9,
   "id": "376b94b0-ea64-4759-91c2-3585a622c363",
   "metadata": {},
   "outputs": [
    {
     "data": {
      "text/plain": [
       "{'seqID': 'opt_2',\n",
       " 'RNASeq': 'AUGAGUAGGGAGGGGGGGAGUAGUGGGGUGAGGAGCUGGGGCUUGGCCUGCGGGCGGCCCGCGAAGGUGGCGAAGGCUCCCACUGGAUCCCGGGUUUGCAGGCCUAGCAGCCUCGUGAGCGCCAGGAGUGUCUGCGUGCGACCUCUCCCUGCCCCUUGGCUUAGCGGCGUCGUGCGGCUUGUGGGUGAGCCUUGUCCCCCGGGUUCUGCCUCCCCGCGCACCAGAACGAUCAUGAACUUCUGAAGGGACCCAGCUUUCUUUGUGUGCUCCAAGUAGUUCGCACAGAUAAUCAUCUAUAUAUUCAUUGAAGGAGAGAAUCAGAGCAAGUGAUAAUCUAGUUACUACGAGUCUGCUAAACUGUGAAAACAGCUGUGGAUCCAGCCAGUCUGAAAGUAACUGCUGUGUGGCCAUGGCCAGCUCCUGUAGCGCUGUAACAAACGAUGAUAGUGUGGGUGGAACUGCCAGCACGGGGAACCUCUCCAGCUCAUUUAUGGAGGCGAUCCAGGGAUCUAGUGUCGCGUUUGACCCACCCCUGGAAAGCAAGUAUAGAUGCCCCAUCUGCUUGAUGGCAUUACCCGGAGCAGUGCAAACGCCAUGCGGCCAUAGGUCCUGCAGAGCCUGCAUCAUAAAAUCAAUAAGGGAUGCAGGAGUCAAAUGUCCAGUUGACAAUGAAACACCGCUGGAAAAUCAACUAUUUCCCGCCAGUUUUGCAAAACGUAGGACUCUUUCUCUGACGGUGAAAUGUCCAAGUGAAGGUUGUUUGCACAAGAUGGCACUGAGACAUCUUGAGGAUCAUCAAGCACAUUGUAAGUUUGCUCUUAUGGGUUGUCCCCAAUGCCUGCCUCCCUUCCAAAAAUCCCCUACUAAUAUUCACACUCUGAAGGAUUGUCCAAGGAGACAGGUUUCUUGUGACAACUGUGCUGCAUCAAUGGCAUUUAACGGUAAAGAGAUCCCUGACCUGAACUGUCCUUCGGCAAAUGUCACCUGUGAAUACUGCAGUACUAUACUCAUCAGAGAACCGACGCCUAAUCACUGUAAUCUAGACUGCCCUACAGCCCCAAUUCCAUGCACAUUCAGUACUUUUGGUUGCCCUGAAAAGAUGCAGAGGAAUCACUUGGCACUCCCCCUACCCGCGAACACCCAGUCACACACGAGAAUGUGGGCCCAGGCUGUUCAUAGUUUGAGCGAUACACCCGACUCUGGGUAUACCUCAGAGGUCCGGAAUUUCCCGGCAACUAUUCUCCAGUGCGCGGGAGCCCUUGUAAGACAAGACCAUCAAAUCCGGGAGCCGACUGCUAAAAUGGUAACAGCGAGUAUGUUUGUAAGUGAGCUCGG',\n",
       " 'DNASeq': 'ATGAGTAGGGAGGGGGGGAGTAGTGGGGTGAGGAGCTGGGGCTTGGCCTGCGGGCGGCCCGCGAAGGTGGCGAAGGCTCCCACTGGATCCCGGGTTTGCAGGCCTAGCAGCCTCGTGAGCGCCAGGAGTGTCTGCGTGCGACCTCTCCCTGCCCCTTGGCTTAGCGGCGTCGTGCGGCTTGTGGGTGAGCCTTGTCCCCCGGGTTCTGCCTCCCCGCGCACCAGAACGATCATGAACTTCTGAAGGGACCCAGCTTTCTTTGTGTGCTCCAAGTAGTTCGCACAGATAATCATCTATATATTCATTGAAGGAGAGAATCAGAGCAAGTGATAATCTAGTTACTACGAGTCTGCTAAACTGTGAAAACAGCTGTGGATCCAGCCAGTCTGAAAGTAACTGCTGTGTGGCCATGGCCAGCTCCTGTAGCGCTGTAACAAACGATGATAGTGTGGGTGGAACTGCCAGCACGGGGAACCTCTCCAGCTCATTTATGGAGGCGATCCAGGGATCTAGTGTCGCGTTTGACCCACCCCTGGAAAGCAAGTATAGATGCCCCATCTGCTTGATGGCATTACCCGGAGCAGTGCAAACGCCATGCGGCCATAGGTCCTGCAGAGCCTGCATCATAAAATCAATAAGGGATGCAGGAGTCAAATGTCCAGTTGACAATGAAACACCGCTGGAAAATCAACTATTTCCCGCCAGTTTTGCAAAACGTAGGACTCTTTCTCTGACGGTGAAATGTCCAAGTGAAGGTTGTTTGCACAAGATGGCACTGAGACATCTTGAGGATCATCAAGCACATTGTAAGTTTGCTCTTATGGGTTGTCCCCAATGCCTGCCTCCCTTCCAAAAATCCCCTACTAATATTCACACTCTGAAGGATTGTCCAAGGAGACAGGTTTCTTGTGACAACTGTGCTGCATCAATGGCATTTAACGGTAAAGAGATCCCTGACCTGAACTGTCCTTCGGCAAATGTCACCTGTGAATACTGCAGTACTATACTCATCAGAGAACCGACGCCTAATCACTGTAATCTAGACTGCCCTACAGCCCCAATTCCATGCACATTCAGTACTTTTGGTTGCCCTGAAAAGATGCAGAGGAATCACTTGGCACTCCCCCTACCCGCGAACACCCAGTCACACACGAGAATGTGGGCCCAGGCTGTTCATAGTTTGAGCGATACACCCGACTCTGGGTATACCTCAGAGGTCCGGAATTTCCCGGCAACTATTCTCCAGTGCGCGGGAGCCCTTGTAAGACAAGACCATCAAATCCGGGAGCCGACTGCTAAAATGGTAACAGCGAGTATGTTTGTAAGTGAGCTCGG',\n",
       " 'RNA_structure': '....((.(((..(((((((((.((.((((((((((((...(((..(((((((((...)))))..)))))))...))))))..(((((((((((.(((((((...((((((.(((((..((((((((....)))).))))...((((((..(((....)))..(((((.(((((((((...(.((((((((((........)))))).)))).)))))))..(((((.(........))))))....))))).)))...((((((((..(......)..))))))))...(((.............))).))))))..........((((((......))))))))))).))))))..))))))....).))).)))))))).(((.(((((((((.(((..(((((..(((((.......((((((.((.((.......(((.((((((((((((..(((((.(((..(((((...))))).))).......(((((((.(((((((.....(.(((......))))...)))))))...(((((..(((((...))))))))))..(((((((((((((((((((((((((((....)))....((((((((....((((((((...............)))))))).(((((........)))))...(((((...((.(((((........))))).))..))))).......))))))))(((((.((((((......))))..)).)))))..))))))))..(((((..(((((....))).))..)))))..(((...))).....))))))...)))).......))))))))))))).....................((((((((..(((((((((.((.((.((...((((..((((...((....(((((........)))))......))...))))..)))).)))).)).)))))))))...........))))))))..)))))......(((....)))......))))))..)))))).)))...)).)).))))))........)))))))))).)))))))))))))))(((((........))).))..)))))).))))))))))).)))))(((((.((.(((.((((......)))))))...)).)))))......(((((..(((......(((((((.....))))))).((((((..(((((((((.((.......))))).))))))..(((((...))))).........)))))).((.(((((((....((....))...)))).))).))..))).))))).',\n",
       " 'A_ratio': 0.24719101123595505,\n",
       " 'TU_ratio': 0.23370786516853934,\n",
       " 'G_ratio': 0.2606741573033708,\n",
       " 'C_ratio': 0.25842696629213485,\n",
       " 'AT_ratio': 0.48089887640449436,\n",
       " 'GC_ratio': 0.5191011235955056,\n",
       " 'MFE': -434.20001220703125,\n",
       " 'MFE_5': 0.0,\n",
       " 'score': 0.6773778806700957,\n",
       " 'CAI': 0.7863372941898852}"
      ]
     },
     "execution_count": 9,
     "metadata": {},
     "output_type": "execute_result"
    }
   ],
   "source": [
    "results['optimized'][0]"
   ]
  },
  {
   "cell_type": "code",
   "execution_count": null,
   "id": "33993b7e-c8a4-4945-88ff-fbb7508f0aed",
   "metadata": {},
   "outputs": [],
   "source": []
  }
 ],
 "metadata": {
  "kernelspec": {
   "display_name": "Python 3 (ipykernel)",
   "language": "python",
   "name": "python3"
  },
  "language_info": {
   "codemirror_mode": {
    "name": "ipython",
    "version": 3
   },
   "file_extension": ".py",
   "mimetype": "text/x-python",
   "name": "python",
   "nbconvert_exporter": "python",
   "pygments_lexer": "ipython3",
   "version": "3.9.18"
  }
 },
 "nbformat": 4,
 "nbformat_minor": 5
}
